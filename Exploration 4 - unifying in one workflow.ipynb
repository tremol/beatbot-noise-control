{
 "cells": [
  {
   "cell_type": "markdown",
   "metadata": {},
   "source": [
    "In this notebook, we build on the model training of Exploration 2 in the real-time listening and processing of Exploration 3, to build a single unified workflow. Running this allows you to, in this one self-contained notebook,\n",
    "* specify the noises you want your model to recognize\n",
    "* record training and testing data for those noises\n",
    "* train a model on the data, and evaluate its performance\n",
    "* use the model with a listener to recognize noises in real-time and act on them"
   ]
  },
  {
   "cell_type": "markdown",
   "metadata": {},
   "source": [
    "As in Exploration 3, we will use sounddevice to listen and record audio. This outputs numpy arrays. We will use this to construct training and testing datasets, which will pass mel spectrograms on to the network. Once trained, this network will be used to recognize noises, again by converting incoming audio into spectrograms and generating predictions."
   ]
  },
  {
   "cell_type": "markdown",
   "metadata": {},
   "source": [
    "# Real-time listening: general functions"
   ]
  },
  {
   "cell_type": "markdown",
   "metadata": {},
   "source": [
    "Functions to continuously listen for noises, and pass them to a processing function."
   ]
  },
  {
   "cell_type": "code",
   "execution_count": 1,
   "metadata": {},
   "outputs": [],
   "source": [
    "import sounddevice as sd\n",
    "import numpy as np\n",
    "import queue\n",
    "import time"
   ]
  },
  {
   "cell_type": "code",
   "execution_count": 2,
   "metadata": {},
   "outputs": [
    {
     "name": "stdout",
     "output_type": "stream",
     "text": [
      "  0 Built-in Microphone, Core Audio (2 in, 0 out)\n",
      "< 1 Built-in Output, Core Audio (0 in, 2 out)\n",
      "> 2 SpeechMatic USB MultiAdapter, Core Audio (1 in, 2 out)\n"
     ]
    }
   ],
   "source": [
    "########### PARAMETERS ###########\n",
    "\n",
    "device = 2 # select the microphone. Use sd.query_devices() to see options\n",
    "print(sd.query_devices())\n",
    "\n",
    "BATCH_DURATION = 0.02      # listen for noises BATCH_DURATION (seconds) at a time\n",
    "THRESHOLD_MULTIPLIER = 5   # detect a spike when the next batch is at least THRESHOLD_MULTIPLIER times bigger\n",
    "THRESHOLD_ABSOLUTE = 0.005 # ignore any spikes that don't rise above this. Too many false positives without this\n",
    "BATCHES_PER_NOISE = 3      # collect BATCHES_PER_NOISE batches of audio input per detected noise\n",
    "\n",
    "samplerate = sd.query_devices(device, 'input')['default_samplerate']\n",
    "# optional for future: set the FFT window size based on the sample rate\n",
    "\n",
    "blocksize = int(samplerate * BATCH_DURATION) # get the block (batch) size in frames"
   ]
  },
  {
   "cell_type": "code",
   "execution_count": 3,
   "metadata": {},
   "outputs": [],
   "source": [
    "########### Functions for continuous listening and processing ###########\n",
    "\n",
    "# bundling these is easier than declaring them 'global' in the below\n",
    "class listen:\n",
    "    \"\"\" Helper variables for processing continuous audio input \"\"\"\n",
    "    \n",
    "    def reset():\n",
    "        listen.prev_max = 1.\n",
    "        listen.batches_to_collect = 0\n",
    "        listen.batches_collected = 0\n",
    "        listen.current_noise = None\n",
    "        listen.start = time.time()\n",
    "\n",
    "        listen.processing_start = 0 # for timing the total processing time\n",
    "        listen.processing_end = 0\n",
    "\n",
    "        listen.q_batches = queue.Queue() # a FIFO queue\n",
    "        listen.all_audio = []  # could use this to collect all audio (uncomment line in callback)\n",
    "        listen.all_noises = [] # could use this to collect all noises. Use the processing_function to append\n",
    "    \n",
    "def callback(indata, frames, time_pa, status):\n",
    "    \"\"\" Detect if a noise has been made, and add audio to the queue. \"\"\"\n",
    "    if status:\n",
    "        print('STATUS: ', str(status))\n",
    "    if any(indata):\n",
    "        indata_copy = indata.copy()\n",
    "        new_max = np.absolute(indata_copy).max()\n",
    "        # listen.all_audio.append(indata_copy)\n",
    "        \n",
    "        # Gather audio data if more is required. Make sure to *copy* the input data.\n",
    "        if listen.batches_to_collect > 0:\n",
    "            listen.q_batches.put_nowait(indata_copy)\n",
    "            listen.batches_collected  += 1\n",
    "            listen.batches_to_collect -= 1\n",
    "                \n",
    "        # Otherwise, see if a new noise has been detected\n",
    "        elif ( new_max > THRESHOLD_ABSOLUTE and\n",
    "               new_max > THRESHOLD_MULTIPLIER * listen.prev_max ):\n",
    "            \n",
    "            listen.processing_start = time.time()\n",
    "            \n",
    "            listen.q_batches.put_nowait(indata_copy)\n",
    "            listen.batches_collected += 1\n",
    "            listen.batches_to_collect = BATCHES_PER_NOISE - 1 # get more batches\n",
    "               \n",
    "        listen.prev_max = new_max\n",
    "        \n",
    "    else:\n",
    "        print('no input')\n",
    "\n",
    "def time_elapsed(duration):\n",
    "    def _time_elapsed():\n",
    "        return time.time() - listen.start > duration\n",
    "    return _time_elapsed\n",
    "\n",
    "def print_processing_time():\n",
    "    listen.processing_end = time.time()\n",
    "    print('Processing took {:.4f} sec\\n'.format(\n",
    "        listen.processing_end - listen.processing_start))\n",
    "        \n",
    "def listen_and_process(processing_function, stop_condition=time_elapsed(3),\n",
    "                       device=device, print_after_processing=None):\n",
    "    \"\"\" Listen continuously for noises until stop_condition() returns True (default: wait 3 sec).\n",
    "    As each noises heard, process is using processing_function. Return all noises at the end. \"\"\"\n",
    "\n",
    "    listen.reset() # reinitialize helper variables\n",
    "    \n",
    "    with sd.InputStream(device=device, channels=1, callback=callback,\n",
    "                        blocksize=blocksize,\n",
    "                        samplerate=samplerate):\n",
    "        print('Listening...')\n",
    "        while True:\n",
    "            \n",
    "            # data collects if it meets the threshold. Process when enough data is in queue:\n",
    "            if listen.batches_collected >= BATCHES_PER_NOISE:\n",
    "                data = []\n",
    "                for _ in range(BATCHES_PER_NOISE):\n",
    "                    data.append( listen.q_batches.get_nowait() )\n",
    "                listen.batches_collected -= BATCHES_PER_NOISE\n",
    "                \n",
    "                listen.current_noise = np.concatenate( data, axis=None )\n",
    "                \n",
    "                processing_function( listen.current_noise )\n",
    "                \n",
    "                # print something after processing, if desired\n",
    "                print_after_processing() if print_after_processing else None\n",
    "                    \n",
    "            # listen until the condition is met\n",
    "            if stop_condition():\n",
    "                break\n",
    "        print('Done.')"
   ]
  },
  {
   "cell_type": "markdown",
   "metadata": {},
   "source": [
    "# Recording audio data for training/testing"
   ]
  },
  {
   "cell_type": "markdown",
   "metadata": {},
   "source": [
    "We now apply the above functions to make a listener to record training and testing data for our model:"
   ]
  },
  {
   "cell_type": "code",
   "execution_count": 4,
   "metadata": {},
   "outputs": [],
   "source": [
    "from IPython.display import clear_output"
   ]
  },
  {
   "cell_type": "code",
   "execution_count": 5,
   "metadata": {},
   "outputs": [],
   "source": [
    "########## A listener to record training/testing data. ##########\n",
    "\n",
    "# a helper function to get nonnegative integer input\n",
    "def get_int_input():\n",
    "    while True:\n",
    "        response = input() # response is a string\n",
    "        try:\n",
    "            val = int(response)\n",
    "            if val >= 0:\n",
    "                break\n",
    "            print('Integer must be non-negative.')\n",
    "        except:\n",
    "            print('Please enter an integer.')\n",
    "        \n",
    "    return val\n",
    "\n",
    "def record_model_data(device=device):\n",
    "    \"\"\" Prompts the user to label and record noise samples. Returns a dictionary with labels as keys\n",
    "    and lists of flattened numpy arrays (one array per noise sample) as values. \"\"\"\n",
    "    \n",
    "    noise_data_dict = {}\n",
    "    noise_count = 0\n",
    "    \n",
    "    def gather_and_progress(label, total):\n",
    "        def _gather_and_progress(rec):\n",
    "            nonlocal noise_count\n",
    "            \n",
    "            listen.all_noises.append( rec )\n",
    "            noise_count += 1\n",
    "            print(noise_count, end=', ')\n",
    "\n",
    "        return _gather_and_progress\n",
    "      \n",
    "    same_num_for_each = False\n",
    "    print('Would you like to record the same number of samples for each noise type? (enter y for yes)')\n",
    "    answer = input()\n",
    "    if 'y' in answer:\n",
    "        same_num_for_each = True\n",
    "        print('How many noise samples would you like to record for each?')\n",
    "        num = get_int_input()\n",
    "    else:\n",
    "        print('We recommend recording similar numbers for each type, to avoid biasing the model.\\n')\n",
    "    \n",
    "    while True:    \n",
    "        print('Noises recorded so far:', list(noise_data_dict.keys()))\n",
    "        print('Enter text label for next noise (leave blank to exit):')\n",
    "        label = input()\n",
    "        if not label:\n",
    "            return noise_data_dict\n",
    "        if label in noise_data_dict:\n",
    "            print('You have already recorded {} samples of this noise. You may now record more.'.format(\n",
    "                    len(noise_data_dict[label]))\n",
    "                 )\n",
    "        if not same_num_for_each:\n",
    "            print('How many noise samples would you like to record?')\n",
    "            num = get_int_input()\n",
    "            if num == 0:\n",
    "                continue\n",
    "        \n",
    "        clear_output() # clear jupyter output\n",
    "        print('Noises recorded so far:', list(noise_data_dict.keys()))\n",
    "        print('Please start recording.\\n')\n",
    "        print('\"{}\" noises recorded (out of {}): '.format(label, num))\n",
    "        noise_count = 0\n",
    "        listen_and_process(processing_function=gather_and_progress(label, num), \n",
    "                           stop_condition=lambda: noise_count >= num,\n",
    "                           device=device,\n",
    "                           print_after_processing=None)\n",
    "        print('')\n",
    "\n",
    "        # save the list of recorded noises\n",
    "        if label in noise_data_dict:\n",
    "            noise_data_dict[label] += listen.all_noises.copy()\n",
    "        else:\n",
    "            noise_data_dict[label] = listen.all_noises.copy()\n",
    "        \n",
    "    return noise_data_dict"
   ]
  },
  {
   "cell_type": "code",
   "execution_count": 6,
   "metadata": {},
   "outputs": [],
   "source": [
    "# # TESTING\n",
    "# my_recordings = record_model_data()\n",
    "# print(my_recordings)"
   ]
  },
  {
   "cell_type": "markdown",
   "metadata": {},
   "source": [
    "# Audio processing: preparing spectrograms"
   ]
  },
  {
   "cell_type": "markdown",
   "metadata": {},
   "source": [
    "A function to create a spectrogram from a noise sample recording."
   ]
  },
  {
   "cell_type": "code",
   "execution_count": 7,
   "metadata": {},
   "outputs": [],
   "source": [
    "import torch\n",
    "import torchaudio.transforms\n",
    "import matplotlib.pyplot as plt"
   ]
  },
  {
   "cell_type": "code",
   "execution_count": 8,
   "metadata": {},
   "outputs": [],
   "source": [
    "########### PARAMETERS ###########\n",
    "N_MELS = 28                # the number of mel filterbanks in each spectrogram"
   ]
  },
  {
   "cell_type": "code",
   "execution_count": 9,
   "metadata": {},
   "outputs": [],
   "source": [
    "def generate_spectrogram(noise_sample, samplerate=samplerate, n_mels=N_MELS):\n",
    "    \"\"\" Takes a noise_sample as a flattened numpy.array,\n",
    "    and returns a mel spectrogram as a 2D torch.tensor \"\"\"\n",
    "    \n",
    "    # normalize to have unit mean, and compute the spectrogram\n",
    "    normed_sample = torch.from_numpy(noise_sample) / noise_sample.mean()\n",
    "    mel = torchaudio.transforms.MelSpectrogram(\n",
    "        sample_rate=samplerate, n_mels=n_mels)(normed_sample)\n",
    "    \n",
    "    return mel.log2()"
   ]
  },
  {
   "cell_type": "code",
   "execution_count": 10,
   "metadata": {},
   "outputs": [],
   "source": [
    "# # TESTING\n",
    "# my_spectrogram = generate_spectrogram( noise_sample=my_recordings['t'][0] )\n",
    "# plt.figure(figsize=(2, 2))\n",
    "# plt.imshow(my_spectrogram)"
   ]
  },
  {
   "cell_type": "markdown",
   "metadata": {},
   "source": [
    "# Neural net: preparing datasets"
   ]
  },
  {
   "cell_type": "markdown",
   "metadata": {},
   "source": [
    "From a dictionary of labeled noise sample recordings, prepare the datasets and data loaders needed to train and test the model. Some of the model construction, training, and evaluation code here has been adapted from a [pytorch tutorial](https://pytorch.org/tutorials/beginner/blitz/cifar10_tutorial.html#sphx-glr-beginner-blitz-cifar10-tutorial-py)."
   ]
  },
  {
   "cell_type": "code",
   "execution_count": 45,
   "metadata": {},
   "outputs": [],
   "source": [
    "from torch.utils.data import Dataset, DataLoader, Subset, ConcatDataset, random_split"
   ]
  },
  {
   "cell_type": "code",
   "execution_count": 46,
   "metadata": {},
   "outputs": [],
   "source": [
    "# Prepare the noise data for handing to the convolutional neural network, for training and testing\n",
    "\n",
    "class NoisesDataset(Dataset):\n",
    "    \"\"\" Noises dataset. Takes a dictionary of recordings and returns spectrograms when data is requested. \n",
    "    A channel dimension is added to each spectrogram, as needed for the CNN. \"\"\"\n",
    "\n",
    "    def __init__(self, noise_data_dict, samplerate=samplerate, n_mels=N_MELS): \n",
    "        \"\"\" Initialization: \n",
    "        Takes a dictionary of noise samples, with labels as keys and lists of\n",
    "        flattened numpy arrays (one array per noise sample) as values. \n",
    "        Computes spectrograms for each. \"\"\"\n",
    "        self.noise_data_dict = noise_data_dict\n",
    "        self.noise_samples = []\n",
    "        self.labels = []\n",
    "        \n",
    "        self.noise_str_to_int = {} # correspondences between integer and string labels\n",
    "        self.noise_int_to_str = {} \n",
    "        i = 0\n",
    "        \n",
    "        for label, list_of_arrays in noise_data_dict.items():\n",
    "            # extract samples and labels from the dictionary\n",
    "            num_samples = len(noise_data_dict[label])\n",
    "            self.noise_samples += noise_data_dict[label]\n",
    "            self.labels += [label] * num_samples\n",
    "            \n",
    "            # assign a unique integer to each string label\n",
    "            if label not in self.noise_str_to_int:\n",
    "                self.noise_str_to_int[label] = i\n",
    "                self.noise_int_to_str[i] = label\n",
    "                i += 1\n",
    "        \n",
    "        # compute spectrograms, and convert labels to integers\n",
    "        self.spectrograms = [ generate_spectrogram(s, samplerate, n_mels) \n",
    "                              for s in self.noise_samples ]\n",
    "        self.labels = [ self.noise_str_to_int[ L ] for L in self.labels ]\n",
    "\n",
    "    def __len__(self):\n",
    "        \" Return  the total number of samples \"\n",
    "        return len(self.labels)\n",
    "\n",
    "    def __getitem__(self, sample_index):\n",
    "        \" Return one sample of data \"\n",
    "        # Load data and get (integer) label\n",
    "        # Note the CNN will expect the first tensor dimension to be the channel, hence the unsqueeze\n",
    "        X = self.spectrograms[sample_index].unsqueeze(0)\n",
    "        y = self.labels[sample_index]\n",
    "\n",
    "        return X, y\n",
    "\n",
    "# adapted from https://stackoverflow.com/questions/53916594/typeerror-object-of-type-numpy-int64-has-no-len\n",
    "def prepare_data_loaders(full_dataset, training_fraction=0.8, batch_size=8):\n",
    "    \"\"\" Prepare data loaders for training and testing of the model. \"\"\"\n",
    "\n",
    "    train_size = int(training_fraction * len(full_dataset))\n",
    "    test_size = len(full_dataset) - train_size\n",
    "    train_dataset, test_dataset = random_split(full_dataset, [train_size, test_size])\n",
    "\n",
    "    train_params = {\n",
    "        'batch_size': batch_size,\n",
    "        'shuffle': True,\n",
    "        'num_workers': 1,\n",
    "    }\n",
    "    train_loader = DataLoader(dataset=train_dataset, **train_params)\n",
    "    test_loader  = DataLoader(dataset=test_dataset)\n",
    "    \n",
    "    return train_loader, test_loader, train_dataset, test_dataset\n",
    "\n",
    "def prepare_even_data_loaders(full_dataset, training_fraction=0.8, batch_size=8):\n",
    "    \"\"\" Prepare data loaders for training and testing of the model, including equal\n",
    "    proportions of each type in the training dataset. \"\"\"\n",
    "    \n",
    "    train_dataset = NoisesDataset({})\n",
    "    test_dataset  = NoisesDataset({})\n",
    "    \n",
    "    unique_int_labels = list(set(full_dataset.labels))\n",
    "    dataset_element_labels = np.array([ d[1] for d in full_dataset ])\n",
    "    for i in unique_int_labels:\n",
    "        # get an array of indices, of noise samples with label i\n",
    "        i_indices = np.nonzero(dataset_element_labels == i)[0]\n",
    "        num_samples = len(i_indices)\n",
    "        train_size = int(training_fraction * num_samples)\n",
    "        test_size = num_samples - train_size\n",
    "\n",
    "        i_dataset = Subset(full_dataset, i_indices)\n",
    "        i_train_dataset, i_test_dataset = random_split(i_dataset, [train_size, test_size])\n",
    "\n",
    "        train_dataset = ConcatDataset([train_dataset, i_train_dataset])\n",
    "        test_dataset  = ConcatDataset([test_dataset,  i_test_dataset])\n",
    "\n",
    "    train_params = {\n",
    "        'batch_size': batch_size,\n",
    "        'shuffle': True,\n",
    "        'num_workers': 1,\n",
    "    }\n",
    "    train_loader = DataLoader(dataset=train_dataset, **train_params)\n",
    "    test_loader  = DataLoader(dataset=test_dataset)\n",
    "    \n",
    "    return train_loader, test_loader, train_dataset, test_dataset"
   ]
  },
  {
   "cell_type": "code",
   "execution_count": 47,
   "metadata": {},
   "outputs": [
    {
     "data": {
      "text/plain": [
       "(array([ 0,  1,  2,  3,  4,  5,  6,  7,  8,  9, 10, 11, 12, 13, 14, 15, 16,\n",
       "        17, 18, 19, 20, 21, 22, 23, 24, 25, 26, 27, 28, 29, 30, 31, 32, 33,\n",
       "        34, 35, 36, 37, 38, 39, 40, 41, 42, 43, 44, 45, 46, 47, 48, 49, 50,\n",
       "        51, 52, 53, 54, 55, 56, 57, 58, 59, 60, 61, 62, 63, 64, 65, 66, 67,\n",
       "        68, 69, 70, 71, 72, 73, 74, 75, 76, 77, 78, 79, 80, 81, 82, 83, 84,\n",
       "        85, 86, 87, 88, 89, 90, 91, 92, 93, 94, 95, 96, 97, 98, 99]),)"
      ]
     },
     "execution_count": 47,
     "metadata": {},
     "output_type": "execute_result"
    }
   ],
   "source": [
    "foo = np.nonzero(np.array([ d[1] for d in my_dataset ]) == 0)\n",
    "foo"
   ]
  },
  {
   "cell_type": "code",
   "execution_count": 48,
   "metadata": {},
   "outputs": [
    {
     "data": {
      "text/plain": [
       "(tensor([[[ 5.7941e+00,  4.0922e+00,  7.2982e+00,  1.6621e+01,  1.9481e+01,\n",
       "            1.8442e+01,  2.2448e+01,  2.2347e+01,  2.3635e+01,  1.7695e+01,\n",
       "            2.5168e+01,  2.6085e+01,  2.5927e+01,  2.6509e+01],\n",
       "          [ 5.0693e+00,  4.2816e+00,  7.5780e+00,  1.6753e+01,  1.9463e+01,\n",
       "            1.8260e+01,  2.3160e+01,  2.1187e+01,  2.4681e+01,  2.4189e+01,\n",
       "            2.4296e+01,  2.6083e+01,  2.5767e+01,  2.5385e+01],\n",
       "          [ 2.8152e+00,  4.0655e+00,  6.9471e+00,  1.6308e+01,  1.7801e+01,\n",
       "            1.8749e+01,  2.2187e+01,  2.1788e+01,  2.3941e+01,  2.3962e+01,\n",
       "            2.4397e+01,  2.4436e+01,  2.4680e+01,  2.2800e+01],\n",
       "          [ 2.4905e+00,  2.2197e+00,  9.1760e+00,  1.6151e+01,  1.6641e+01,\n",
       "            1.7175e+01,  1.9396e+01,  2.1071e+01,  2.1074e+01,  2.1939e+01,\n",
       "            2.3192e+01,  2.0190e+01,  2.2372e+01,  2.0141e+01],\n",
       "          [ 4.6640e+00,  1.2093e+00,  1.1203e+01,  1.5816e+01,  1.4158e+01,\n",
       "            1.5730e+01,  1.7568e+01,  1.7249e+01,  1.5122e+01,  1.7862e+01,\n",
       "            1.9256e+01,  1.9209e+01,  1.7893e+01,  1.9663e+01],\n",
       "          [ 4.3102e+00,  2.4362e+00,  1.2614e+01,  1.5425e+01,  1.3534e+01,\n",
       "            1.3052e+01,  1.5709e+01,  1.6295e+01,  1.6157e+01,  1.5557e+01,\n",
       "            1.6823e+01,  1.6018e+01,  1.6037e+01,  1.7529e+01],\n",
       "          [ 5.6110e+00,  2.3660e+00,  1.2839e+01,  1.4347e+01,  1.3300e+01,\n",
       "            1.1703e+01,  1.5017e+01,  1.5128e+01,  1.4930e+01,  1.6468e+01,\n",
       "            1.3671e+01,  1.3536e+01,  1.5017e+01,  1.5512e+01],\n",
       "          [ 4.1035e+00,  2.8463e+00,  1.2457e+01,  1.4861e+01,  1.2288e+01,\n",
       "            9.8900e+00,  1.3074e+01,  1.2868e+01,  1.3423e+01,  1.3990e+01,\n",
       "            1.4300e+01,  1.1785e+01,  1.3476e+01,  1.3798e+01],\n",
       "          [ 2.3581e+00,  3.5837e+00,  1.1233e+01,  1.4219e+01,  1.2360e+01,\n",
       "            1.1272e+01,  1.0063e+01,  1.2782e+01,  1.3764e+01,  1.1106e+01,\n",
       "            1.4109e+01,  1.1468e+01,  1.1279e+01,  1.3804e+01],\n",
       "          [ 3.3252e+00,  2.5710e+00,  1.2723e+01,  1.2231e+01,  1.2497e+01,\n",
       "            1.0518e+01,  1.0712e+01,  1.3759e+01,  1.3788e+01,  1.1302e+01,\n",
       "            1.3372e+01,  1.2517e+01,  1.1547e+01,  1.3077e+01],\n",
       "          [ 3.1599e+00,  2.8067e+00,  1.2212e+01,  1.1706e+01,  1.1366e+01,\n",
       "            1.1583e+01,  1.1642e+01,  1.3276e+01,  1.2597e+01,  1.2631e+01,\n",
       "            1.0865e+01,  1.0784e+01,  1.1561e+01,  1.1563e+01],\n",
       "          [ 2.4759e+00,  1.4608e+00,  1.1099e+01,  1.1494e+01,  1.1565e+01,\n",
       "            1.0745e+01,  1.1242e+01,  1.3973e+01,  1.0498e+01,  1.1791e+01,\n",
       "            1.0927e+01,  9.4925e+00,  8.9380e+00,  1.1400e+01],\n",
       "          [ 4.3301e+00,  2.4906e+00,  1.2335e+01,  1.1565e+01,  1.1636e+01,\n",
       "            1.2339e+01,  1.1482e+01,  1.3496e+01,  1.4340e+01,  1.3710e+01,\n",
       "            1.1951e+01,  1.2769e+01,  1.3190e+01,  1.0497e+01],\n",
       "          [ 3.6713e+00,  2.8792e+00,  1.3295e+01,  1.4380e+01,  1.2246e+01,\n",
       "            1.1389e+01,  1.0958e+01,  1.2060e+01,  1.2487e+01,  1.2855e+01,\n",
       "            1.1286e+01,  1.2061e+01,  1.2307e+01,  1.1209e+01],\n",
       "          [ 4.3026e+00,  3.3109e+00,  1.4056e+01,  1.6137e+01,  1.6780e+01,\n",
       "            1.6200e+01,  1.7186e+01,  1.3497e+01,  1.3495e+01,  1.2238e+01,\n",
       "            1.0847e+01,  1.1697e+01,  1.0573e+01,  1.0744e+01],\n",
       "          [ 3.5292e+00,  4.0006e+00,  1.5504e+01,  1.7347e+01,  1.7630e+01,\n",
       "            1.6475e+01,  1.7269e+01,  1.4846e+01,  1.4273e+01,  1.2592e+01,\n",
       "            1.2410e+01,  1.2246e+01,  1.1059e+01,  1.0279e+01],\n",
       "          [ 3.6726e+00,  3.4779e+00,  1.4797e+01,  1.6937e+01,  1.8582e+01,\n",
       "            1.6635e+01,  1.5671e+01,  1.4595e+01,  1.4729e+01,  1.4254e+01,\n",
       "            1.3308e+01,  1.2902e+01,  1.1696e+01,  8.8288e+00],\n",
       "          [ 3.8166e+00,  2.7642e+00,  1.2662e+01,  1.5594e+01,  1.6252e+01,\n",
       "            1.6561e+01,  1.5397e+01,  1.3835e+01,  1.4967e+01,  1.3082e+01,\n",
       "            1.0490e+01,  1.0448e+01,  9.3489e+00,  8.7439e+00],\n",
       "          [ 3.9663e+00,  3.3121e+00,  1.2546e+01,  1.6058e+01,  1.7857e+01,\n",
       "            1.6106e+01,  1.4475e+01,  1.4065e+01,  1.4123e+01,  1.1728e+01,\n",
       "            1.0746e+01,  9.7533e+00,  9.1289e+00,  7.7474e+00],\n",
       "          [ 3.3307e+00,  3.0778e+00,  1.0695e+01,  1.5682e+01,  1.7243e+01,\n",
       "            1.4611e+01,  1.4332e+01,  1.4717e+01,  1.4086e+01,  1.3305e+01,\n",
       "            1.1745e+01,  1.0489e+01,  9.2078e+00,  6.9057e+00],\n",
       "          [ 4.6000e+00,  4.1224e+00,  9.2004e+00,  1.4454e+01,  1.5333e+01,\n",
       "            1.3783e+01,  1.3660e+01,  1.4104e+01,  1.3656e+01,  1.1674e+01,\n",
       "            1.0391e+01,  9.5592e+00,  8.4110e+00,  7.2243e+00],\n",
       "          [ 4.3144e+00,  4.1245e+00,  7.4224e+00,  1.4530e+01,  1.4435e+01,\n",
       "            1.2501e+01,  1.0412e+01,  1.1444e+01,  9.5621e+00,  9.8138e+00,\n",
       "            7.8285e+00,  7.7307e+00,  6.2086e+00,  6.3954e+00],\n",
       "          [ 4.4385e+00,  3.9775e+00,  7.5866e+00,  1.2592e+01,  1.2531e+01,\n",
       "            1.0947e+01,  9.4468e+00,  7.2022e+00,  8.5857e+00,  7.1919e+00,\n",
       "            7.2695e+00,  5.9385e+00,  4.5113e+00,  6.1632e+00],\n",
       "          [ 4.4011e+00,  4.1294e+00,  6.9678e+00,  9.7114e+00,  9.6852e+00,\n",
       "            9.0429e+00,  8.2926e+00,  7.0833e+00,  7.1185e+00,  6.6104e+00,\n",
       "            6.7189e+00,  5.1699e+00,  4.7038e+00,  5.0734e+00],\n",
       "          [ 2.8266e+00,  3.6844e+00,  6.6436e+00,  8.6666e+00,  8.1172e+00,\n",
       "            7.2172e+00,  6.2294e+00,  6.4328e+00,  5.8127e+00,  5.3365e+00,\n",
       "            4.6913e+00,  4.1433e+00,  2.9752e+00,  4.0961e+00],\n",
       "          [ 3.5972e+00,  3.7731e+00,  5.4544e+00,  8.2393e+00,  7.0474e+00,\n",
       "            5.7947e+00,  4.4733e+00,  4.9861e+00,  4.5650e+00,  4.6878e+00,\n",
       "            3.9289e+00,  4.1366e+00,  3.7804e+00,  4.4625e+00],\n",
       "          [ 3.3057e+00,  2.7326e+00,  3.2743e+00,  4.4459e+00,  4.4180e+00,\n",
       "            3.0549e+00,  3.5058e+00,  3.1050e+00,  3.0468e+00,  2.2320e+00,\n",
       "            2.3293e+00,  2.3445e+00,  3.3698e+00,  4.2709e+00],\n",
       "          [ 7.0012e-01,  2.0030e-02,  7.0094e-01,  1.0421e+00,  8.7317e-01,\n",
       "           -2.9285e-01,  4.6892e-01,  2.2568e-01,  1.7622e-01,  1.5134e-01,\n",
       "            3.4292e-01, -1.3308e-01,  3.8815e-01,  3.1060e+00]]]), 0)"
      ]
     },
     "execution_count": 48,
     "metadata": {},
     "output_type": "execute_result"
    }
   ],
   "source": [
    "torch.utils.data.Subset(my_dataset, foo[0])[0]"
   ]
  },
  {
   "cell_type": "code",
   "execution_count": 49,
   "metadata": {
    "scrolled": true
   },
   "outputs": [
    {
     "name": "stdout",
     "output_type": "stream",
     "text": [
      "   k    t    p   ch click    k    k  tsk\n"
     ]
    },
    {
     "data": {
      "image/png": "[encoded data removed]",
      "text/plain": [
       "<Figure size 432x288 with 8 Axes>"
      ]
     },
     "metadata": {
      "needs_background": "light"
     },
     "output_type": "display_data"
    }
   ],
   "source": [
    "# TESTING prepare_data_loaders\n",
    "my_dataset = NoisesDataset(my_recordings)\n",
    "my_train_loader, my_test_loader, my_train_dataset, my_test_dataset = prepare_data_loaders(my_dataset, batch_size=8)\n",
    "\n",
    "# get some random training spectrograms\n",
    "my_train_dataiter = iter(my_train_loader)\n",
    "my_spectrograms, my_labels = my_train_dataiter.next()\n",
    "my_batch_size = 8\n",
    "\n",
    "# show spectrograms and print labels\n",
    "fig, ax = plt.subplots(1, my_batch_size)\n",
    "for i in range(len(my_spectrograms)):\n",
    "    ax[i].imshow(my_spectrograms[i][0].numpy()) # the 0 selects the first (only) channel\n",
    "print(' '.join('{:>4s}'.format(my_dataset.noise_int_to_str[my_labels[j].item()]) for j in range(my_batch_size)))"
   ]
  },
  {
   "cell_type": "code",
   "execution_count": 50,
   "metadata": {},
   "outputs": [
    {
     "name": "stdout",
     "output_type": "stream",
     "text": [
      "  ch click  tsk    p    p click    t    p\n"
     ]
    },
    {
     "data": {
      "image/png": "[encoded data removed]",
      "text/plain": [
       "<Figure size 432x288 with 8 Axes>"
      ]
     },
     "metadata": {
      "needs_background": "light"
     },
     "output_type": "display_data"
    }
   ],
   "source": [
    "# TESTING prepare_even_data_loaders\n",
    "my_dataset = NoisesDataset(my_recordings)\n",
    "my_train_loader, my_test_loader, my_train_dataset, my_test_dataset = prepare_even_data_loaders(my_dataset, batch_size=8)\n",
    "\n",
    "# get some random training spectrograms\n",
    "my_train_dataiter = iter(my_train_loader)\n",
    "my_spectrograms, my_labels = my_train_dataiter.next()\n",
    "my_batch_size = 8\n",
    "\n",
    "# show spectrograms and print labels\n",
    "fig, ax = plt.subplots(1, my_batch_size)\n",
    "for i in range(len(my_spectrograms)):\n",
    "    ax[i].imshow(my_spectrograms[i][0].numpy()) # the 0 selects the first (only) channel\n",
    "print(' '.join('{:>4s}'.format(my_dataset.noise_int_to_str[my_labels[j].item()]) for j in range(my_batch_size)))"
   ]
  },
  {
   "cell_type": "markdown",
   "metadata": {},
   "source": [
    "# Neural net: defining and training"
   ]
  },
  {
   "cell_type": "markdown",
   "metadata": {},
   "source": [
    "Define the convolutional neural network, and train it."
   ]
  },
  {
   "cell_type": "code",
   "execution_count": 14,
   "metadata": {},
   "outputs": [],
   "source": [
    "import torch.nn as nn\n",
    "import torch.nn.functional as F\n",
    "import torch.optim as optim"
   ]
  },
  {
   "cell_type": "code",
   "execution_count": 27,
   "metadata": {},
   "outputs": [],
   "source": [
    "class Net(nn.Module):\n",
    "    def __init__(self, image_size, noise_int_to_str):\n",
    "        super(Net, self).__init__()\n",
    "        \n",
    "        self.image_size = image_size\n",
    "        self.noise_int_to_str = noise_int_to_str\n",
    "        \n",
    "        # image_size is a 2-tuple, the expected dimensions of each spectrogram\n",
    "        # .... or a 3-tuple, if the channel has already been added\n",
    "        if   len(image_size) == 2:\n",
    "            h, w = image_size\n",
    "        elif len(image_size) == 3:\n",
    "            channel, h, w = image_size\n",
    "        \n",
    "        # number of output nodes, (square) kernel size, and pool size per convolution layer,\n",
    "        # assuming the stride for pooling is the same as the pool size\n",
    "        kernels = [3, 3]\n",
    "        pool = 2\n",
    "        \n",
    "        # compute the number of input nodes for the first dense layer\n",
    "        h_out, w_out = h, w\n",
    "        for k in kernels:\n",
    "            # the convolution.\n",
    "            h_out += -k + 1\n",
    "            w_out += -k + 1\n",
    "            \n",
    "            # the pool. (from help(torch.nn.MaxPool2d))\n",
    "            h_out = int( (h_out - pool) / pool + 1 )\n",
    "            w_out = int( (w_out - pool) / pool + 1 )\n",
    "            \n",
    "        self.image_out = h_out * w_out\n",
    "        \n",
    "        # define the layers. The numbers of nodes chosen do not have deep thought behind them.\n",
    "        self.conv0 = nn.Conv2d(1, 32, kernels[0])\n",
    "        self.pool = nn.MaxPool2d(2)\n",
    "        self.conv1 = nn.Conv2d(32, 10, kernels[1])\n",
    "        self.fc0 = nn.Linear(10 * self.image_out, 50)\n",
    "        self.fc1 = nn.Linear(50, 10)\n",
    "        # number of output nodes for final dense layer: the number of noise types        \n",
    "        self.fc2 = nn.Linear(10, len(noise_int_to_str))\n",
    "        \n",
    "    def forward(self, x):\n",
    "        x = self.pool(F.relu(self.conv0(x)))\n",
    "        x = self.pool(F.relu(self.conv1(x)))\n",
    "        x = x.view(-1, 10 * self.image_out)\n",
    "        x = F.relu(self.fc0(x))\n",
    "        x = F.relu(self.fc1(x))\n",
    "        x = self.fc2(x)\n",
    "        return x"
   ]
  },
  {
   "cell_type": "code",
   "execution_count": 16,
   "metadata": {},
   "outputs": [],
   "source": [
    "def train_net(net, epochs, train_loader, batch_progress=50):\n",
    "    \"\"\" Use training data from train_loader to train net for a number of epochs,\n",
    "    using a cross entropy loss function and Adam as the optimizer. \"\"\"\n",
    "    \n",
    "    criterion = nn.CrossEntropyLoss()\n",
    "    optimizer = optim.Adam(net.parameters())\n",
    "    \n",
    "    batch_num = 0\n",
    "    for epoch in range(epochs):  # loop over the dataset multiple times\n",
    "        \n",
    "        batch_running_loss = 0.0\n",
    "        \n",
    "        for i, data in enumerate(train_loader, 0):\n",
    "            # get the inputs; data is a list of [inputs, labels]\n",
    "            inputs, labels = data\n",
    "\n",
    "            # zero the parameter gradients\n",
    "            optimizer.zero_grad()\n",
    "\n",
    "            # forward + backward + optimize\n",
    "            outputs = net(inputs)\n",
    "            loss = criterion(outputs, labels)\n",
    "            loss.backward()\n",
    "            optimizer.step()\n",
    "\n",
    "            # accrue loss for printing\n",
    "            batch_running_loss += loss.item()\n",
    "            \n",
    "            if batch_num % batch_progress == batch_progress-1:\n",
    "                print('[{:d}, {:5d}] loss: {:.3f}'.format(\n",
    "                  epoch + 1, i + 1, batch_running_loss / batch_progress))\n",
    "                batch_running_loss = 0.0\n",
    "                batch_num = 0\n",
    "            \n",
    "            batch_num += 1\n",
    "        \n",
    "    print('Finished Training')"
   ]
  },
  {
   "cell_type": "code",
   "execution_count": 17,
   "metadata": {},
   "outputs": [],
   "source": [
    "# # TESTING\n",
    "# my_net = Net(my_spectrogram.size(), my_dataset.noise_int_to_str)\n",
    "# train_net(my_net, 50, my_train_loader, batch_progress=100)"
   ]
  },
  {
   "cell_type": "markdown",
   "metadata": {},
   "source": [
    "# Evaluate model quality"
   ]
  },
  {
   "cell_type": "markdown",
   "metadata": {},
   "source": [
    "Check the accuracy of the model against the testing and training sets, and compute the confusion matrix."
   ]
  },
  {
   "cell_type": "code",
   "execution_count": 18,
   "metadata": {},
   "outputs": [],
   "source": [
    "import itertools\n",
    "from sklearn.metrics import confusion_matrix"
   ]
  },
  {
   "cell_type": "code",
   "execution_count": 19,
   "metadata": {},
   "outputs": [],
   "source": [
    "def accuracy_rating(net, dataloader, dataset_label):\n",
    "    correct = 0\n",
    "    total = 0\n",
    "    all_targets = torch.tensor([], dtype=torch.long)\n",
    "    all_predictions = torch.tensor([], dtype=torch.long)\n",
    "    with torch.no_grad():\n",
    "        for data in dataloader:\n",
    "            spectrograms, labels = data\n",
    "            outputs = net(spectrograms)\n",
    "            _, predicted = torch.max(outputs.data, 1)\n",
    "            total += labels.size(0)\n",
    "            correct += (predicted == labels).sum().item()\n",
    "            \n",
    "            all_predictions = torch.cat( \n",
    "                (all_predictions, predicted), dim=0 )\n",
    "            all_targets = torch.cat( \n",
    "                (all_targets, labels), dim=0 )\n",
    "            \n",
    "    print('Accuracy of the network on the {} {} spectrograms: {:.0f} %'.format(\n",
    "        total,\n",
    "        dataset_label,\n",
    "        100 * correct / total))\n",
    "    \n",
    "    return all_predictions, all_targets"
   ]
  },
  {
   "cell_type": "code",
   "execution_count": 20,
   "metadata": {},
   "outputs": [],
   "source": [
    "# adapted from https://deeplizard.com/learn/video/0LhiS6yu2qQ\n",
    "def plot_confusion_matrix(predictions, targets, labels_int_to_str, \n",
    "                          normalize=False, title='Confusion matrix', cmap=plt.cm.Blues):\n",
    "    \n",
    "    stacked = torch.stack( [targets, predictions], dim=1 )\n",
    "    all_int_labels = sorted(list(labels_int_to_str.keys()))\n",
    "    num_labels = len(all_int_labels)\n",
    "    confusion_matrix = torch.zeros(num_labels, num_labels, dtype=torch.int64)\n",
    "\n",
    "    for pair in stacked:\n",
    "        target_label, prediction_label = pair.tolist()\n",
    "        confusion_matrix[target_label, prediction_label] += 1\n",
    "\n",
    "    classes = [ labels_int_to_str[i] for i in all_int_labels ]    \n",
    "    cm = confusion_matrix # rename for compactness\n",
    "        \n",
    "    if normalize:\n",
    "        cm = cm.astype('float') / cm.sum(axis=1)[:, np.newaxis]\n",
    "        print(\"Normalized confusion matrix\")\n",
    "    else:\n",
    "        print('Confusion matrix, without normalization:')\n",
    "\n",
    "        \n",
    "    size = min(num_labels + 1, 8)\n",
    "    plt.figure(figsize=(size, size))\n",
    "    plt.imshow(cm, interpolation='nearest', cmap=cmap)\n",
    "    plt.title(title)\n",
    "    plt.colorbar(fraction=0.046, pad=0.04)\n",
    "    tick_marks = np.arange(len(classes))\n",
    "    plt.xticks(tick_marks, classes, rotation=45)\n",
    "    plt.yticks(tick_marks, classes)\n",
    "\n",
    "    fmt = '.2f' if normalize else 'd'\n",
    "    thresh = cm.max() / 2.\n",
    "    for i, j in itertools.product(range(cm.shape[0]), range(cm.shape[1])):\n",
    "        plt.text(j, i, format(cm[i, j], fmt), horizontalalignment=\"center\", \n",
    "                 color=\"white\" if cm[i, j] > thresh else \"black\")\n",
    "\n",
    "    plt.tight_layout()\n",
    "    plt.ylabel('True label')\n",
    "    plt.xlabel('Predicted label')\n",
    "    \n",
    "    return confusion_matrix"
   ]
  },
  {
   "cell_type": "code",
   "execution_count": 21,
   "metadata": {},
   "outputs": [],
   "source": [
    "# # TESTING\n",
    "# accuracy_rating(my_net, my_train_loader, 'training')\n",
    "# preds, targets = accuracy_rating(my_net, my_test_loader, 'test')\n",
    "\n",
    "# plot_confusion_matrix(preds, targets, my_dataset.noise_int_to_str);"
   ]
  },
  {
   "cell_type": "markdown",
   "metadata": {},
   "source": [
    "# Real-time listening and recognition"
   ]
  },
  {
   "cell_type": "markdown",
   "metadata": {},
   "source": [
    "With the trained model in hand, make a listener to recognize noises and act on them."
   ]
  },
  {
   "cell_type": "code",
   "execution_count": 22,
   "metadata": {},
   "outputs": [],
   "source": [
    "def get_prediction(model, noise_sample, samplerate=samplerate, n_mels=N_MELS):\n",
    "    \"\"\" Build the spectrogram and use our model to recognize the noise \"\"\"\n",
    "    \n",
    "    mel = generate_spectrogram(noise_sample, samplerate, n_mels)\n",
    "\n",
    "    # change from torch.Size([A, B]) to torch.Size([1, 1, A, B])\n",
    "    mel = mel[None, None, :, :]\n",
    "    \n",
    "    # run through the model and get prediction\n",
    "    output = model(mel)\n",
    "    energy, label = torch.max(output.data, 1)\n",
    "    \n",
    "    # return the string label of the noise\n",
    "    return model.noise_int_to_str[label.item()]\n",
    "\n",
    "def print_noise(noise_heard):\n",
    "    \"\"\" Print the string label of the noise that has been heard. \"\"\"\n",
    "    print(noise_heard, end=\", \")"
   ]
  },
  {
   "cell_type": "code",
   "execution_count": 23,
   "metadata": {},
   "outputs": [],
   "source": [
    "def listen_recognize_and_respond(model, act_on_noise, device, duration=5):\n",
    "    \"\"\" Continuously listen for noises for duration (sec), then recognize them\n",
    "    with the model and respond with the function act_on_noise. \"\"\"\n",
    "    \n",
    "    def processing_function(noise_sample):\n",
    "        pred = get_prediction(model, noise_sample)\n",
    "        act_on_noise(pred)\n",
    "    \n",
    "    listen_and_process(processing_function=processing_function, \n",
    "                           stop_condition=time_elapsed(duration),\n",
    "                           device=device,\n",
    "                           print_after_processing=None)"
   ]
  },
  {
   "cell_type": "markdown",
   "metadata": {},
   "source": [
    "Note this supposes that the default samplerate and n_mels for get_prediction are the same as those used for the training dataset. This could be made more robust by allowing processing_function to accept the sample rate as well as a numpy array, and by recording the n_mels used in the dataset the model was trained on."
   ]
  },
  {
   "cell_type": "code",
   "execution_count": null,
   "metadata": {},
   "outputs": [],
   "source": [
    "# # TESTING\n",
    "# listen_recognize_and_respond(my_net, print_noise, 2, duration=20)"
   ]
  },
  {
   "cell_type": "markdown",
   "metadata": {},
   "source": [
    "## From recording to recognizing: all together"
   ]
  },
  {
   "cell_type": "code",
   "execution_count": 51,
   "metadata": {},
   "outputs": [
    {
     "name": "stdout",
     "output_type": "stream",
     "text": [
      "[2,    40] loss: 0.518\n",
      "[4,    19] loss: 0.052\n",
      "[5,    58] loss: 0.139\n",
      "[7,    37] loss: 0.065\n",
      "[9,    16] loss: 0.019\n",
      "[10,    55] loss: 0.070\n",
      "Finished Training\n",
      "Accuracy of the network on the 120 test spectrograms: 98 %\n",
      "Confusion matrix, without normalization:\n"
     ]
    },
    {
     "data": {
      "image/png": "[encoded data removed]",
      "text/plain": [
       "<Figure size 504x504 with 2 Axes>"
      ]
     },
     "metadata": {
      "needs_background": "light"
     },
     "output_type": "display_data"
    }
   ],
   "source": [
    "# my_recordings = record_model_data()\n",
    "\n",
    "my_dataset = NoisesDataset(my_recordings)\n",
    "my_train_loader, my_test_loader, _, _ = prepare_even_data_loaders(my_dataset, batch_size=8)\n",
    "\n",
    "my_net = Net(my_dataset[0][0].size(), my_dataset.noise_int_to_str)\n",
    "train_net(my_net, 10, my_train_loader, batch_progress=100)\n",
    "\n",
    "preds, targets = accuracy_rating(my_net, my_test_loader, 'test')\n",
    "plot_confusion_matrix(preds, targets, my_dataset.noise_int_to_str);"
   ]
  },
  {
   "cell_type": "code",
   "execution_count": 52,
   "metadata": {},
   "outputs": [
    {
     "name": "stdout",
     "output_type": "stream",
     "text": [
      "Listening...\n",
      "tsk, t, t, p, p, p, click, tsk, tsk, k, ch, ch, ch, k, k, k, ch, ch, t, tsk, tsk, click, click, click, t, tsk, k, p, t, p, ch, t, ch, Done.\n"
     ]
    }
   ],
   "source": [
    "listen_recognize_and_respond(my_net, print_noise, 2, duration=20)"
   ]
  },
  {
   "cell_type": "code",
   "execution_count": null,
   "metadata": {},
   "outputs": [],
   "source": []
  }
 ],
 "metadata": {
  "kernelspec": {
   "display_name": "Python 3",
   "language": "python",
   "name": "python3"
  },
  "language_info": {
   "codemirror_mode": {
    "name": "ipython",
    "version": 3
   },
   "file_extension": ".py",
   "mimetype": "text/x-python",
   "name": "python",
   "nbconvert_exporter": "python",
   "pygments_lexer": "ipython3",
   "version": "3.7.5"
  }
 },
 "nbformat": 4,
 "nbformat_minor": 2
}
